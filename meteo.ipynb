{
 "cells": [
  {
   "cell_type": "code",
   "execution_count": 19,
   "metadata": {},
   "outputs": [],
   "source": [
    "import numpy as np\n",
    "import pandas as pd\n",
    "from meteostat import *\n",
    "from datetime import datetime"
   ]
  },
  {
   "cell_type": "code",
   "execution_count": 20,
   "metadata": {},
   "outputs": [],
   "source": [
    "Daily.cache_dir = '/media/andrea/EEE438B1E4387E41/machine_learning/meteo'\n",
    "stations = Stations().region('FR')"
   ]
  },
  {
   "cell_type": "code",
   "execution_count": 22,
   "metadata": {},
   "outputs": [],
   "source": [
    "start = datetime(2010, 1, 1)\n",
    "end = datetime(2021, 1, 1)"
   ]
  },
  {
   "cell_type": "code",
   "execution_count": 23,
   "metadata": {},
   "outputs": [
    {
     "data": {
      "text/plain": [
       "223"
      ]
     },
     "execution_count": 23,
     "metadata": {},
     "output_type": "execute_result"
    }
   ],
   "source": [
    "stations.count()"
   ]
  },
  {
   "cell_type": "code",
   "execution_count": 24,
   "metadata": {},
   "outputs": [],
   "source": [
    "\n",
    "stations.inventory('daily', (start, end))\n",
    "stations = stations.fetch()\n"
   ]
  },
  {
   "cell_type": "code",
   "execution_count": 25,
   "metadata": {},
   "outputs": [
    {
     "data": {
      "text/html": [
       "<div>\n",
       "<style scoped>\n",
       "    .dataframe tbody tr th:only-of-type {\n",
       "        vertical-align: middle;\n",
       "    }\n",
       "\n",
       "    .dataframe tbody tr th {\n",
       "        vertical-align: top;\n",
       "    }\n",
       "\n",
       "    .dataframe thead th {\n",
       "        text-align: right;\n",
       "    }\n",
       "</style>\n",
       "<table border=\"1\" class=\"dataframe\">\n",
       "  <thead>\n",
       "    <tr style=\"text-align: right;\">\n",
       "      <th></th>\n",
       "      <th>name</th>\n",
       "      <th>country</th>\n",
       "      <th>region</th>\n",
       "      <th>wmo</th>\n",
       "      <th>icao</th>\n",
       "      <th>latitude</th>\n",
       "      <th>longitude</th>\n",
       "      <th>elevation</th>\n",
       "      <th>timezone</th>\n",
       "      <th>hourly_start</th>\n",
       "      <th>hourly_end</th>\n",
       "      <th>daily_start</th>\n",
       "      <th>daily_end</th>\n",
       "      <th>monthly_start</th>\n",
       "      <th>monthly_end</th>\n",
       "    </tr>\n",
       "    <tr>\n",
       "      <th>id</th>\n",
       "      <th></th>\n",
       "      <th></th>\n",
       "      <th></th>\n",
       "      <th></th>\n",
       "      <th></th>\n",
       "      <th></th>\n",
       "      <th></th>\n",
       "      <th></th>\n",
       "      <th></th>\n",
       "      <th></th>\n",
       "      <th></th>\n",
       "      <th></th>\n",
       "      <th></th>\n",
       "      <th></th>\n",
       "      <th></th>\n",
       "    </tr>\n",
       "  </thead>\n",
       "  <tbody>\n",
       "    <tr>\n",
       "      <th>07002</th>\n",
       "      <td>Boulogne</td>\n",
       "      <td>FR</td>\n",
       "      <td>O</td>\n",
       "      <td>07002</td>\n",
       "      <td>&lt;NA&gt;</td>\n",
       "      <td>50.7333</td>\n",
       "      <td>1.6000</td>\n",
       "      <td>70.0</td>\n",
       "      <td>Europe/Paris</td>\n",
       "      <td>1973-01-01</td>\n",
       "      <td>2023-04-09</td>\n",
       "      <td>1999-03-24</td>\n",
       "      <td>2022-03-28</td>\n",
       "      <td>2005-01-01</td>\n",
       "      <td>2021-01-01</td>\n",
       "    </tr>\n",
       "    <tr>\n",
       "      <th>07003</th>\n",
       "      <td>Le Touquet</td>\n",
       "      <td>FR</td>\n",
       "      <td>O</td>\n",
       "      <td>07003</td>\n",
       "      <td>LFAT</td>\n",
       "      <td>50.5167</td>\n",
       "      <td>1.6167</td>\n",
       "      <td>10.0</td>\n",
       "      <td>Europe/Paris</td>\n",
       "      <td>1973-01-01</td>\n",
       "      <td>2023-05-18</td>\n",
       "      <td>2004-10-19</td>\n",
       "      <td>2022-04-25</td>\n",
       "      <td>2005-01-01</td>\n",
       "      <td>2022-01-01</td>\n",
       "    </tr>\n",
       "    <tr>\n",
       "      <th>07005</th>\n",
       "      <td>Abbeville</td>\n",
       "      <td>FR</td>\n",
       "      <td>S</td>\n",
       "      <td>07005</td>\n",
       "      <td>LFOI</td>\n",
       "      <td>50.1333</td>\n",
       "      <td>1.8333</td>\n",
       "      <td>74.0</td>\n",
       "      <td>Europe/Paris</td>\n",
       "      <td>1926-10-04</td>\n",
       "      <td>2023-05-18</td>\n",
       "      <td>1940-06-08</td>\n",
       "      <td>2023-05-10</td>\n",
       "      <td>1940-01-01</td>\n",
       "      <td>2022-01-01</td>\n",
       "    </tr>\n",
       "    <tr>\n",
       "      <th>07010</th>\n",
       "      <td>Dunkerque</td>\n",
       "      <td>FR</td>\n",
       "      <td>O</td>\n",
       "      <td>07010</td>\n",
       "      <td>&lt;NA&gt;</td>\n",
       "      <td>51.0500</td>\n",
       "      <td>2.3333</td>\n",
       "      <td>6.0</td>\n",
       "      <td>Europe/Paris</td>\n",
       "      <td>1973-01-01</td>\n",
       "      <td>2023-04-09</td>\n",
       "      <td>1999-03-24</td>\n",
       "      <td>2022-03-28</td>\n",
       "      <td>2009-01-01</td>\n",
       "      <td>2021-01-01</td>\n",
       "    </tr>\n",
       "    <tr>\n",
       "      <th>07015</th>\n",
       "      <td>Lille</td>\n",
       "      <td>FR</td>\n",
       "      <td>O</td>\n",
       "      <td>07015</td>\n",
       "      <td>LFQQ</td>\n",
       "      <td>50.5667</td>\n",
       "      <td>3.1000</td>\n",
       "      <td>48.0</td>\n",
       "      <td>Europe/Paris</td>\n",
       "      <td>1945-03-01</td>\n",
       "      <td>2023-05-18</td>\n",
       "      <td>1945-03-02</td>\n",
       "      <td>2023-05-10</td>\n",
       "      <td>1973-01-01</td>\n",
       "      <td>2022-01-01</td>\n",
       "    </tr>\n",
       "    <tr>\n",
       "      <th>...</th>\n",
       "      <td>...</td>\n",
       "      <td>...</td>\n",
       "      <td>...</td>\n",
       "      <td>...</td>\n",
       "      <td>...</td>\n",
       "      <td>...</td>\n",
       "      <td>...</td>\n",
       "      <td>...</td>\n",
       "      <td>...</td>\n",
       "      <td>...</td>\n",
       "      <td>...</td>\n",
       "      <td>...</td>\n",
       "      <td>...</td>\n",
       "      <td>...</td>\n",
       "      <td>...</td>\n",
       "    </tr>\n",
       "    <tr>\n",
       "      <th>LFRV0</th>\n",
       "      <td>Vannes-Meucon</td>\n",
       "      <td>FR</td>\n",
       "      <td>E</td>\n",
       "      <td>&lt;NA&gt;</td>\n",
       "      <td>LFRV</td>\n",
       "      <td>47.7233</td>\n",
       "      <td>-2.7186</td>\n",
       "      <td>136.0</td>\n",
       "      <td>Europe/Paris</td>\n",
       "      <td>1987-06-01</td>\n",
       "      <td>2023-05-18</td>\n",
       "      <td>2004-10-20</td>\n",
       "      <td>2022-04-25</td>\n",
       "      <td>2008-01-01</td>\n",
       "      <td>2022-01-01</td>\n",
       "    </tr>\n",
       "    <tr>\n",
       "      <th>LFSG0</th>\n",
       "      <td>Epinal / Baudricourt</td>\n",
       "      <td>FR</td>\n",
       "      <td>M</td>\n",
       "      <td>&lt;NA&gt;</td>\n",
       "      <td>LFSG</td>\n",
       "      <td>48.3167</td>\n",
       "      <td>6.0667</td>\n",
       "      <td>331.0</td>\n",
       "      <td>Europe/Paris</td>\n",
       "      <td>2007-02-27</td>\n",
       "      <td>2023-05-18</td>\n",
       "      <td>2014-05-29</td>\n",
       "      <td>2022-04-25</td>\n",
       "      <td>2015-01-01</td>\n",
       "      <td>2022-01-01</td>\n",
       "    </tr>\n",
       "    <tr>\n",
       "      <th>LFSM0</th>\n",
       "      <td>Montbéliard-Courcelles / Montbeliard-Courcelle...</td>\n",
       "      <td>FR</td>\n",
       "      <td>I</td>\n",
       "      <td>&lt;NA&gt;</td>\n",
       "      <td>LFSM</td>\n",
       "      <td>47.4870</td>\n",
       "      <td>6.7905</td>\n",
       "      <td>317.0</td>\n",
       "      <td>Europe/Paris</td>\n",
       "      <td>2021-01-04</td>\n",
       "      <td>2023-05-17</td>\n",
       "      <td>2021-01-04</td>\n",
       "      <td>2022-04-24</td>\n",
       "      <td>2021-01-01</td>\n",
       "      <td>2022-01-01</td>\n",
       "    </tr>\n",
       "    <tr>\n",
       "      <th>LFYD0</th>\n",
       "      <td>Damblain</td>\n",
       "      <td>FR</td>\n",
       "      <td>G</td>\n",
       "      <td>&lt;NA&gt;</td>\n",
       "      <td>LFYD</td>\n",
       "      <td>48.0833</td>\n",
       "      <td>5.6667</td>\n",
       "      <td>390.0</td>\n",
       "      <td>Europe/Paris</td>\n",
       "      <td>1980-08-07</td>\n",
       "      <td>1984-03-29</td>\n",
       "      <td>NaT</td>\n",
       "      <td>NaT</td>\n",
       "      <td>NaT</td>\n",
       "      <td>NaT</td>\n",
       "    </tr>\n",
       "    <tr>\n",
       "      <th>LFYL0</th>\n",
       "      <td>Lure / Froideterre</td>\n",
       "      <td>FR</td>\n",
       "      <td>I</td>\n",
       "      <td>&lt;NA&gt;</td>\n",
       "      <td>LFYL</td>\n",
       "      <td>47.7000</td>\n",
       "      <td>6.5500</td>\n",
       "      <td>317.0</td>\n",
       "      <td>Europe/Paris</td>\n",
       "      <td>1981-03-09</td>\n",
       "      <td>1984-03-28</td>\n",
       "      <td>NaT</td>\n",
       "      <td>NaT</td>\n",
       "      <td>NaT</td>\n",
       "      <td>NaT</td>\n",
       "    </tr>\n",
       "  </tbody>\n",
       "</table>\n",
       "<p>223 rows × 15 columns</p>\n",
       "</div>"
      ],
      "text/plain": [
       "                                                    name country region  \\\n",
       "id                                                                        \n",
       "07002                                           Boulogne      FR      O   \n",
       "07003                                         Le Touquet      FR      O   \n",
       "07005                                          Abbeville      FR      S   \n",
       "07010                                          Dunkerque      FR      O   \n",
       "07015                                              Lille      FR      O   \n",
       "...                                                  ...     ...    ...   \n",
       "LFRV0                                      Vannes-Meucon      FR      E   \n",
       "LFSG0                               Epinal / Baudricourt      FR      M   \n",
       "LFSM0  Montbéliard-Courcelles / Montbeliard-Courcelle...      FR      I   \n",
       "LFYD0                                           Damblain      FR      G   \n",
       "LFYL0                                 Lure / Froideterre      FR      I   \n",
       "\n",
       "         wmo  icao  latitude  longitude  elevation      timezone hourly_start  \\\n",
       "id                                                                              \n",
       "07002  07002  <NA>   50.7333     1.6000       70.0  Europe/Paris   1973-01-01   \n",
       "07003  07003  LFAT   50.5167     1.6167       10.0  Europe/Paris   1973-01-01   \n",
       "07005  07005  LFOI   50.1333     1.8333       74.0  Europe/Paris   1926-10-04   \n",
       "07010  07010  <NA>   51.0500     2.3333        6.0  Europe/Paris   1973-01-01   \n",
       "07015  07015  LFQQ   50.5667     3.1000       48.0  Europe/Paris   1945-03-01   \n",
       "...      ...   ...       ...        ...        ...           ...          ...   \n",
       "LFRV0   <NA>  LFRV   47.7233    -2.7186      136.0  Europe/Paris   1987-06-01   \n",
       "LFSG0   <NA>  LFSG   48.3167     6.0667      331.0  Europe/Paris   2007-02-27   \n",
       "LFSM0   <NA>  LFSM   47.4870     6.7905      317.0  Europe/Paris   2021-01-04   \n",
       "LFYD0   <NA>  LFYD   48.0833     5.6667      390.0  Europe/Paris   1980-08-07   \n",
       "LFYL0   <NA>  LFYL   47.7000     6.5500      317.0  Europe/Paris   1981-03-09   \n",
       "\n",
       "      hourly_end daily_start  daily_end monthly_start monthly_end  \n",
       "id                                                                 \n",
       "07002 2023-04-09  1999-03-24 2022-03-28    2005-01-01  2021-01-01  \n",
       "07003 2023-05-18  2004-10-19 2022-04-25    2005-01-01  2022-01-01  \n",
       "07005 2023-05-18  1940-06-08 2023-05-10    1940-01-01  2022-01-01  \n",
       "07010 2023-04-09  1999-03-24 2022-03-28    2009-01-01  2021-01-01  \n",
       "07015 2023-05-18  1945-03-02 2023-05-10    1973-01-01  2022-01-01  \n",
       "...          ...         ...        ...           ...         ...  \n",
       "LFRV0 2023-05-18  2004-10-20 2022-04-25    2008-01-01  2022-01-01  \n",
       "LFSG0 2023-05-18  2014-05-29 2022-04-25    2015-01-01  2022-01-01  \n",
       "LFSM0 2023-05-17  2021-01-04 2022-04-24    2021-01-01  2022-01-01  \n",
       "LFYD0 1984-03-29         NaT        NaT           NaT         NaT  \n",
       "LFYL0 1984-03-28         NaT        NaT           NaT         NaT  \n",
       "\n",
       "[223 rows x 15 columns]"
      ]
     },
     "execution_count": 25,
     "metadata": {},
     "output_type": "execute_result"
    }
   ],
   "source": [
    "stations"
   ]
  },
  {
   "cell_type": "code",
   "execution_count": 26,
   "metadata": {},
   "outputs": [],
   "source": [
    "stations =  stations[(stations['longitude']  <= 8) & (stations['longitude']  >=  -10)] "
   ]
  },
  {
   "cell_type": "code",
   "execution_count": null,
   "metadata": {},
   "outputs": [],
   "source": [
    "data = []\n",
    "true_stations = []\n",
    "\n",
    "for station in stations.index : \n",
    "\n",
    "   df = Daily(station, start, end)\n",
    "   \n",
    "   if df.coverage() >=  0.7 :\n",
    "      \n",
    "      true_stations.append(station)\n",
    "      df = df.normalize().interpolate(50)\n",
    "      Time_Series = df.fetch()\n",
    "      data.append(Time_Series)\n",
    "   \n",
    "    "
   ]
  },
  {
   "cell_type": "code",
   "execution_count": 38,
   "metadata": {},
   "outputs": [],
   "source": [
    "data = pd.concat(data)"
   ]
  },
  {
   "cell_type": "code",
   "execution_count": 39,
   "metadata": {},
   "outputs": [],
   "source": [
    "data = data.fillna(0)"
   ]
  },
  {
   "cell_type": "code",
   "execution_count": 40,
   "metadata": {},
   "outputs": [],
   "source": [
    "data = data.drop(columns=['tsun', 'wpgt', 'snow', 'prcp'])"
   ]
  },
  {
   "cell_type": "code",
   "execution_count": 41,
   "metadata": {},
   "outputs": [],
   "source": [
    "lat = np.array([stations.loc[station, 'latitude'] for station in true_stations])\n",
    "long = np.array([stations.loc[station, 'longitude'] for station in true_stations])"
   ]
  },
  {
   "cell_type": "code",
   "execution_count": 42,
   "metadata": {},
   "outputs": [],
   "source": [
    "param = data.mean(), data.std()"
   ]
  },
  {
   "cell_type": "code",
   "execution_count": 44,
   "metadata": {},
   "outputs": [],
   "source": [
    "normalize_data = (data - param[0])/param[1]"
   ]
  },
  {
   "cell_type": "code",
   "execution_count": 48,
   "metadata": {},
   "outputs": [],
   "source": [
    "time = data.index\n",
    "data = normalize_data.reset_index(level = 'time', drop = True)"
   ]
  },
  {
   "cell_type": "code",
   "execution_count": 50,
   "metadata": {},
   "outputs": [],
   "source": [
    "time2 = np.unique(time)"
   ]
  },
  {
   "cell_type": "code",
   "execution_count": 51,
   "metadata": {},
   "outputs": [],
   "source": [
    "param = [data.mean(), data.std()]"
   ]
  },
  {
   "cell_type": "code",
   "execution_count": null,
   "metadata": {},
   "outputs": [],
   "source": [
    "def look_back(data, look, stations) : \n",
    "    num_station = len(stations)\n",
    "    X = [[np.ravel(data.iloc[[i for i in range(k*num_station, (k+1)*num_station)]]) for k in range(j,j+look)] for j in range(int(len(data)/(num_station))-look+1)]\n",
    "    Y = [X[k][0] for k in range(1,len(X))]\n",
    "    return np.array(X[:-1]),np.array(Y)"
   ]
  },
  {
   "cell_type": "code",
   "execution_count": null,
   "metadata": {},
   "outputs": [],
   "source": [
    "X,Y = look_back(data, 10, true_stations)"
   ]
  },
  {
   "cell_type": "code",
   "execution_count": 95,
   "metadata": {},
   "outputs": [],
   "source": [
    "np.save('data', X)\n",
    "np.save('result', Y)\n",
    "np.save('time', time2.astype('datetime64[h]'))\n",
    "np.save('stations', true_stations)\n",
    "np.save('param', param)\n",
    "np.save('lat', lat)\n",
    "np.save('long', long)"
   ]
  }
 ],
 "metadata": {
  "kernelspec": {
   "display_name": "Python 3",
   "language": "python",
   "name": "python3"
  },
  "language_info": {
   "codemirror_mode": {
    "name": "ipython",
    "version": 3
   },
   "file_extension": ".py",
   "mimetype": "text/x-python",
   "name": "python",
   "nbconvert_exporter": "python",
   "pygments_lexer": "ipython3",
   "version": "3.10.6"
  },
  "orig_nbformat": 4,
  "vscode": {
   "interpreter": {
    "hash": "916dbcbb3f70747c44a77c7bcd40155683ae19c65e1c03b4aa3499c5328201f1"
   }
  }
 },
 "nbformat": 4,
 "nbformat_minor": 2
}
